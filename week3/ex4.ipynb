import sys
import numpy as np
import matplotlib.pyplot as plt
from numba import njit
import time 