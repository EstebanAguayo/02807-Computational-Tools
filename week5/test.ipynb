{
 "cells": [
  {
   "cell_type": "code",
   "execution_count": 12,
   "metadata": {},
   "outputs": [],
   "source": [
    "import numpy as np"
   ]
  },
  {
   "cell_type": "code",
   "execution_count": 11,
   "metadata": {},
   "outputs": [],
   "source": [
    "def shingle(q,string):\n",
    "    shingles=[]\n",
    "    for i in range(len(string)):\n",
    "        stored = False\n",
    "        if i+q > len(string):\n",
    "            print(\"Length issue\")\n",
    "            break\n",
    "        else:\n",
    "            for element in np.in1d(string[i:q+i],shingles):\n",
    "                if element == True:\n",
    "                    stored = True\n",
    "            if stored == False:\n",
    "                shingles.append(string[i:q+i]) #also check for already existing shingles\n",
    "    return shingles"
   ]
  },
  {
   "cell_type": "code",
   "execution_count": 10,
   "metadata": {},
   "outputs": [
    {
     "name": "stdout",
     "output_type": "stream",
     "text": [
      "Length issue\n",
      "['ab', 'bc', 'cd', 'de', 'ea']\n"
     ]
    }
   ],
   "source": [
    "print(shingle(2,\"abcdeab\"))"
   ]
  }
 ],
 "metadata": {
  "kernelspec": {
   "display_name": "Python 3.8.8 ('base')",
   "language": "python",
   "name": "python3"
  },
  "language_info": {
   "codemirror_mode": {
    "name": "ipython",
    "version": 3
   },
   "file_extension": ".py",
   "mimetype": "text/x-python",
   "name": "python",
   "nbconvert_exporter": "python",
   "pygments_lexer": "ipython3",
   "version": "3.8.8"
  },
  "orig_nbformat": 4,
  "vscode": {
   "interpreter": {
    "hash": "ad2bdc8ecc057115af97d19610ffacc2b4e99fae6737bb82f5d7fb13d2f2c186"
   }
  }
 },
 "nbformat": 4,
 "nbformat_minor": 2
}
